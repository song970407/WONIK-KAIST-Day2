{
 "cells": [
  {
   "cell_type": "code",
   "execution_count": null,
   "id": "f86ddb88-4c9f-42c2-814f-398521cbe4e0",
   "metadata": {},
   "outputs": [],
   "source": [
    "from os.path import join\n",
    "import os\n",
    "import pickle\n",
    "\n",
    "import numpy as np\n",
    "import matplotlib.pyplot as plt\n",
    "import torch\n",
    "\n",
    "from src.model.get_model import get_multistep_linear_model\n",
    "from src.env.MiniFurnace import MiniFurnace\n",
    "from src.control.mpc import MPC\n",
    "from src.utils.data_preprocessing import get_data\n",
    "\n",
    "device = 'cuda' if torch.cuda.is_available() else 'cpu'"
   ]
  },
  {
   "cell_type": "markdown",
   "id": "9061b997-4645-4d8c-8902-24736f683f15",
   "metadata": {
    "tags": []
   },
   "source": [
    "# MPC with trained model"
   ]
  },
  {
   "cell_type": "markdown",
   "id": "87e02aae-c490-45bb-85d0-f3d5476e150c",
   "metadata": {},
   "source": [
    "## MPC Hyperparameters"
   ]
  },
  {
   "cell_type": "code",
   "execution_count": null,
   "id": "994562a5-75a5-440b-9d32-e0111d629834",
   "metadata": {},
   "outputs": [],
   "source": [
    "env = MiniFurnace()\n",
    "observation_min = env.observation_space['low']\n",
    "observation_max = env.observation_space['high']\n",
    "action_min = env.action_space['low']\n",
    "action_max = env.action_space['high']\n",
    "\n",
    "model_name = 'multistep_linear_res2'\n",
    "\n",
    "# Set your best model hyperparameter\n",
    "state_order = 1\n",
    "action_order = 1\n",
    "\n",
    "receding_horizon = 7\n",
    "max_iter = 400\n",
    "is_logging = True\n",
    "opt_config = {'lr': 1e-2}"
   ]
  },
  {
   "cell_type": "markdown",
   "id": "44f7ef29-6fd7-45e0-a49d-54d54577e58b",
   "metadata": {},
   "source": [
    "## Prepare for MPC"
   ]
  },
  {
   "cell_type": "code",
   "execution_count": null,
   "id": "a7c62e72-059e-457d-9af6-669d32b8bb60",
   "metadata": {},
   "outputs": [],
   "source": [
    "state_dim = env.state_dim\n",
    "action_dim = env.action_dim\n",
    "\n",
    "saved_model_path = 'saved_model/{}/best_model_{}_{}.pt'.format(model_name, state_order, action_order)\n",
    "m = get_multistep_linear_model(model_name, state_dim, action_dim, state_order, action_order, saved_model_path=saved_model_path).to(device)\n",
    "m.eval()\n",
    "mpc_solver = MPC(model=m,\n",
    "                 action_dim=action_dim,\n",
    "                 receding_horizon=receding_horizon,\n",
    "                 action_min=action_min,\n",
    "                 action_max=action_max,\n",
    "                 gamma=env.gamma,\n",
    "                 max_iter=max_iter,\n",
    "                 is_logging=is_logging,\n",
    "                 device=device,\n",
    "                 opt_config=opt_config)"
   ]
  },
  {
   "cell_type": "markdown",
   "id": "cb450a86-e0bb-4ccf-93b8-99dd4c5dca83",
   "metadata": {},
   "source": [
    "## load reference trajectory"
   ]
  },
  {
   "cell_type": "code",
   "execution_count": null,
   "id": "a1af79cf-de95-42de-aac7-7b6ede8e4c30",
   "metadata": {},
   "outputs": [],
   "source": [
    "y = np.transpose(np.load('data/reference_trajectory.npy'))\n",
    "T = y.shape[0]  # Reference trajectory length"
   ]
  },
  {
   "cell_type": "code",
   "execution_count": null,
   "id": "bce2c7c6-3e7e-40eb-b42b-2b5fee9ffd34",
   "metadata": {},
   "outputs": [],
   "source": [
    "y.shape"
   ]
  },
  {
   "cell_type": "markdown",
   "id": "a92125ac-d2bf-4ba0-9424-c2c53f0aca48",
   "metadata": {},
   "source": [
    "## Run MPC"
   ]
  },
  {
   "cell_type": "code",
   "execution_count": null,
   "id": "33d9cae8-8ad5-4e7d-8492-58d1a0a86724",
   "metadata": {
    "jupyter": {
     "outputs_hidden": true
    },
    "tags": []
   },
   "outputs": [],
   "source": [
    "observation_trajectory = []\n",
    "action_trajectory = []\n",
    "log_trajectory = []\n",
    "\n",
    "past_observations, past_actions = env.reset()\n",
    "past_observations, past_actions = past_observations[-state_order:, :], past_actions[-action_order: , :][1:]\n",
    "\n",
    "for t in range(T - receding_horizon):\n",
    "    print('Now [{}] / [{}]'.format(t, T - receding_horizon))\n",
    "    optimal_actions, log = mpc_solver.solve(x0=past_observations, u0=past_actions, y=y[t:t + receding_horizon, :])\n",
    "    action = optimal_actions[0, :].reshape(1, -1)  # proceed first action\n",
    "    observation = env.step(action)\n",
    "\n",
    "    observation_trajectory.append(observation)\n",
    "    action_trajectory.append(action)\n",
    "    log_trajectory.append(log)\n",
    "\n",
    "    past_observations = np.concatenate((past_observations, observation), axis=0)[1:]\n",
    "    past_actions = np.concatenate((past_actions, action), axis=0)[1:]\n",
    "\n",
    "observation_trajectory = np.concatenate(observation_trajectory, axis=0)\n",
    "action_trajectory = np.concatenate(action_trajectory, axis=0)\n",
    "\n",
    "mpc_result = {\n",
    "    'traj_obs': observation_trajectory,\n",
    "    'traj_action': action_trajectory,\n",
    "    'log': log_trajectory\n",
    "}\n",
    "with open('mpc_result/result.log', 'wb') as f:\n",
    "    pickle.dump(mpc_result, f)\n"
   ]
  },
  {
   "cell_type": "code",
   "execution_count": null,
   "id": "460e7280-5fbc-495d-92e5-4d4072c17c79",
   "metadata": {},
   "outputs": [],
   "source": [
    "for i in range(len(log_trajectory)):\n",
    "    plt.plot(log_trajectory[i]['loss'])\n",
    "    plt.yscale('log')"
   ]
  },
  {
   "cell_type": "code",
   "execution_count": null,
   "id": "aef23e74-fd07-46cb-aabe-6dba33cea89c",
   "metadata": {
    "jupyter": {
     "outputs_hidden": true
    },
    "tags": []
   },
   "outputs": [],
   "source": [
    "fig, axes = plt.subplots(5, 1, figsize=(5, 25))\n",
    "axes_flatten = axes.flatten()\n",
    "for i in range(len(axes_flatten)):\n",
    "    axes_flatten[i].plot(observation_trajectory[:, i], label='controlled')\n",
    "    axes_flatten[i].plot(y[:-receding_horizon, i], label='objective')\n",
    "    axes_flatten[i].legend()\n",
    "    \n",
    "    axes_flatten[i].set_ylim([-0.3, 0.3])\n",
    "    axes_flatten[i].set_title('Observation {}th'.format(i+1))\n",
    "\n",
    "fig, axes = plt.subplots(3, 1, figsize=(5, 15))\n",
    "axes_flatten = axes.flatten()\n",
    "for i in range(len(axes_flatten)):\n",
    "    axes_flatten[i].plot(action_trajectory[:, i])\n",
    "    axes_flatten[i].set_ylim([-1.3, 1.3])\n",
    "    axes_flatten[i].set_title('action {}th'.format(i+1))"
   ]
  },
  {
   "cell_type": "markdown",
   "id": "68bd7fab-3c73-4ce2-b32b-d21b0ec5ce35",
   "metadata": {
    "tags": []
   },
   "source": [
    "# MPC with real model"
   ]
  },
  {
   "cell_type": "code",
   "execution_count": null,
   "id": "bd5c601e-873b-4226-bb1d-55a477d86e30",
   "metadata": {
    "jupyter": {
     "outputs_hidden": true
    },
    "tags": []
   },
   "outputs": [],
   "source": [
    "initial_obs, initial_actions = env.reset()"
   ]
  },
  {
   "cell_type": "code",
   "execution_count": null,
   "id": "805d65f8-e69a-467e-a969-87a3e5d09553",
   "metadata": {},
   "outputs": [],
   "source": [
    "initial_obs, initial_actions = env.reset()\n",
    "fake_action = np.ones((1, 3))\n",
    "env_state = env.step(fake_action)"
   ]
  },
  {
   "cell_type": "markdown",
   "id": "819b25ed-228a-4a49-831b-7876422af79e",
   "metadata": {},
   "source": [
    "## Copy env's parameter"
   ]
  },
  {
   "cell_type": "code",
   "execution_count": null,
   "id": "37cb6704-e8c6-4b7b-8111-6e41324de1a6",
   "metadata": {},
   "outputs": [],
   "source": [
    "tensor_A = torch.from_numpy(env.A).float()  # state_order * state_dim * state_dim \n",
    "tensor_B = torch.from_numpy(env.B).float()  # action_order * action_dim * state_dim\n",
    "tensor_C = torch.from_numpy(env.C).float()  # state_dim\n",
    "\n",
    "m_real = get_multistep_linear_model(model_name, state_dim, action_dim, state_order, action_order).to(device)\n",
    "m_real.A.data = tensor_A\n",
    "m_real.B.data = tensor_B\n",
    "m_real.C.data = tensor_C.view(1, -1)"
   ]
  },
  {
   "cell_type": "code",
   "execution_count": null,
   "id": "90708219-f5b7-42d8-af51-d9df79bc8c44",
   "metadata": {},
   "outputs": [],
   "source": [
    "# check model's parameter\n",
    "model_state = m_real.multi_step_prediction(x0 = torch.zeros(state_order, state_dim), u0=torch.zeros(action_order-1, action_dim), us=torch.ones(1, action_dim))\n",
    "print(env_state, model_state)"
   ]
  },
  {
   "cell_type": "code",
   "execution_count": null,
   "id": "e96f78c6-3b45-45cc-bf26-6962afa6b33a",
   "metadata": {},
   "outputs": [],
   "source": [
    "m_real.eval()\n",
    "mpc_solver_real = MPC(model=m_real,\n",
    "                 action_dim=action_dim,\n",
    "                 receding_horizon=receding_horizon,\n",
    "                 action_min=action_min,\n",
    "                 action_max=action_max,\n",
    "                 gamma=env.gamma,\n",
    "                 max_iter=max_iter,\n",
    "                 is_logging=is_logging,\n",
    "                 device=device,\n",
    "                 opt_config=opt_config)"
   ]
  },
  {
   "cell_type": "code",
   "execution_count": null,
   "id": "691dd060-e548-4fea-aecc-dd2c592c7f1c",
   "metadata": {
    "tags": []
   },
   "outputs": [],
   "source": [
    "observation_trajectory = []\n",
    "action_trajectory = []\n",
    "log_trajectory = []\n",
    "\n",
    "past_observations, past_actions = env.reset()\n",
    "past_observations, past_actions = past_observations[-state_order:, :], past_actions[-action_order: , :][1:]\n",
    "\n",
    "for t in range(T - receding_horizon):\n",
    "    print('Now [{}] / [{}]'.format(t, T - receding_horizon))\n",
    "    optimal_actions, log = mpc_solver.solve(x0=past_observations, u0=past_actions, y=y[t:t + receding_horizon, :])\n",
    "    action = optimal_actions[0, :].reshape(1, -1)  # * (action_max - action_min) + action_min\n",
    "    observation = env.step(action)\n",
    "\n",
    "    observation_trajectory.append(observation)\n",
    "    action_trajectory.append(action)\n",
    "    log_trajectory.append(log)\n",
    "\n",
    "    past_observations = np.concatenate((past_observations, observation), axis=0)[1:]\n",
    "    past_actions = np.concatenate((past_actions, action), axis=0)[1:]\n",
    "\n",
    "observation_trajectory = np.concatenate(observation_trajectory, axis=0)\n",
    "action_trajectory = np.concatenate(action_trajectory, axis=0)\n",
    "\n",
    "mpc_result = {\n",
    "    'traj_obs': observation_trajectory,\n",
    "    'traj_action': action_trajectory,\n",
    "    'log': log_trajectory\n",
    "}\n",
    "with open('mpc_result/result.log', 'wb') as f:\n",
    "    pickle.dump(mpc_result, f)\n"
   ]
  },
  {
   "cell_type": "code",
   "execution_count": null,
   "id": "87802040-6689-4d10-ad1f-b4a1c83920ce",
   "metadata": {},
   "outputs": [],
   "source": [
    "for i in range(len(log_trajectory)):\n",
    "    plt.plot(log_trajectory[i]['loss'])\n",
    "    plt.yscale('log')"
   ]
  },
  {
   "cell_type": "code",
   "execution_count": null,
   "id": "a738daf4-dbce-4898-aa0c-66f37f11c543",
   "metadata": {},
   "outputs": [],
   "source": [
    "fig, axes = plt.subplots(5, 1, figsize=(5, 25))\n",
    "axes_flatten = axes.flatten()\n",
    "for i in range(len(axes_flatten)):\n",
    "    axes_flatten[i].plot(observation_trajectory[:, i], label='controlled')\n",
    "    axes_flatten[i].plot(y[:-receding_horizon, i], label='objective')\n",
    "    axes_flatten[i].legend()\n",
    "    \n",
    "    axes_flatten[i].set_ylim([-0.3, 0.3])\n",
    "    axes_flatten[i].set_title('Observation {}th'.format(i+1))\n",
    "\n",
    "fig, axes = plt.subplots(3, 1, figsize=(5, 15))\n",
    "axes_flatten = axes.flatten()\n",
    "for i in range(len(axes_flatten)):\n",
    "    axes_flatten[i].plot(action_trajectory[:, i])\n",
    "    axes_flatten[i].set_ylim([-1.3, 1.3])\n",
    "    axes_flatten[i].set_title('action {}th'.format(i+1))"
   ]
  },
  {
   "cell_type": "code",
   "execution_count": null,
   "id": "2951cd7f-4355-47be-8f94-6e5c2cab0bf8",
   "metadata": {},
   "outputs": [],
   "source": []
  }
 ],
 "metadata": {
  "kernelspec": {
   "display_name": "Python 3 (ipykernel)",
   "language": "python",
   "name": "python3"
  },
  "language_info": {
   "codemirror_mode": {
    "name": "ipython",
    "version": 3
   },
   "file_extension": ".py",
   "mimetype": "text/x-python",
   "name": "python",
   "nbconvert_exporter": "python",
   "pygments_lexer": "ipython3",
   "version": "3.9.16"
  }
 },
 "nbformat": 4,
 "nbformat_minor": 5
}