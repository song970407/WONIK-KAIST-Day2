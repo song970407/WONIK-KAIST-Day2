{
 "cells": [
  {
   "cell_type": "code",
   "execution_count": null,
   "id": "89dbadf3-a5e2-487b-a011-e47817e18864",
   "metadata": {},
   "outputs": [],
   "source": [
    "import time\n",
    "\n",
    "import numpy as np\n",
    "import matplotlib.pyplot as plt\n",
    "import torch\n",
    "import torch.nn as nn\n",
    "import pandas as pd\n",
    "\n",
    "from src.env.MiniFurnace import MiniFurnace"
   ]
  },
  {
   "cell_type": "markdown",
   "id": "c5f583f9-71fa-4131-8d43-ab0dfbf23119",
   "metadata": {
    "tags": []
   },
   "source": [
    "# Tutorial of the environment"
   ]
  },
  {
   "cell_type": "code",
   "execution_count": null,
   "id": "0bad1611-e257-4169-8566-d32fe5138382",
   "metadata": {},
   "outputs": [],
   "source": [
    "env = MiniFurnace()"
   ]
  },
  {
   "cell_type": "markdown",
   "id": "7481d23f-3b14-4371-9b0f-7a2f864a7b1a",
   "metadata": {},
   "source": [
    "+ dimension of state($x$):  $5$\n",
    "+ dimension of action($u$): $3$\n",
    "+ state order ($I$), action order($J$) are unknown. We are going to apply some combination of these orders and find the proper values.\n",
    "+ The environment is fully observable, with $o_t=s_t$\n",
    "+ In order to limit the complexity of the task, the environment was designed to be fully deterministic\n",
    "+ the environment dynamic is unknown.\n",
    "    * We are going to find the model that it has approximate dynamic with the environment via training MultiSteplinear model."
   ]
  },
  {
   "cell_type": "markdown",
   "id": "f029e14c-b065-4bc0-bc13-4bb1f7246874",
   "metadata": {
    "tags": []
   },
   "source": [
    "## The attribute of the environment "
   ]
  },
  {
   "cell_type": "markdown",
   "id": "c54b6dc5-573d-4a82-982f-01c3c651a9ae",
   "metadata": {},
   "source": [
    "+ observation_space: [$-2, 2$]\n",
    "+ action_space: [$-1, 1$]\n",
    "+ state_dim: $5$\n",
    "+ action_dim: $3$"
   ]
  },
  {
   "cell_type": "code",
   "execution_count": null,
   "id": "46eba596-d67c-457f-ad70-d22b4ca3811e",
   "metadata": {},
   "outputs": [],
   "source": [
    "print('The observation space of environment is {}'.format(env.observation_space)) "
   ]
  },
  {
   "cell_type": "code",
   "execution_count": null,
   "id": "14479488-1ff1-43c9-9033-c23a76170d1c",
   "metadata": {},
   "outputs": [],
   "source": [
    "print('The action space of environment is {}'.format(env.action_space)) "
   ]
  },
  {
   "cell_type": "code",
   "execution_count": null,
   "id": "2d5bb04c-66b2-4723-af37-613e3b8f413b",
   "metadata": {},
   "outputs": [],
   "source": [
    "print('The dimension of observation is {}'.format(env.state_dim)) "
   ]
  },
  {
   "cell_type": "code",
   "execution_count": null,
   "id": "45dd3691-2353-40d8-b75f-aa5201246fd3",
   "metadata": {},
   "outputs": [],
   "source": [
    "print('The dimension of action is {}'.format(env.action_dim)) "
   ]
  },
  {
   "cell_type": "markdown",
   "id": "e5ab2cd0-bae7-4d38-b178-b726a9bc37db",
   "metadata": {},
   "source": [
    "## The functions of the environment "
   ]
  },
  {
   "cell_type": "markdown",
   "id": "1bbd98a0-5502-46b5-a98d-823e4678dafc",
   "metadata": {},
   "source": [
    "+ step($u$): proceed dynamic to next timestep\n",
    "    * $u$'s dimension must be (1, action dim) \n",
    "    * type of $u$ is numpy array.\n",
    "    * if not, error will be raised. \n",
    "    * return: next timestep's observation\n",
    "+ reset(): reset initial observations and actions\n",
    "    * return: observation at t=$0$\n",
    "+ get_obs(): get current observation tensor\n",
    "    * return: current timestep's observation\n",
    "+ get_action(): get current action tensor\n",
    "    * return: current timestep's action"
   ]
  },
  {
   "cell_type": "markdown",
   "id": "1948120c-49d8-4dc2-b5fd-8ee91d85bf32",
   "metadata": {},
   "source": [
    "### env.step(u)"
   ]
  },
  {
   "cell_type": "code",
   "execution_count": null,
   "id": "8fd21938-ab52-4267-a435-7596982eddbc",
   "metadata": {},
   "outputs": [],
   "source": [
    "u = np.random.rand(1, 3)\n",
    "next_x = env.step(u)\n",
    "print(next_x)"
   ]
  },
  {
   "cell_type": "markdown",
   "id": "ab1c8151-e578-4372-b4f4-4e0a2a4203be",
   "metadata": {
    "tags": []
   },
   "source": [
    "### env.get_action()"
   ]
  },
  {
   "cell_type": "code",
   "execution_count": null,
   "id": "2c439499-138d-4d62-860f-e92ad0cc8e4c",
   "metadata": {},
   "outputs": [],
   "source": [
    "print('get current observation {}'.format(env.get_action()))"
   ]
  },
  {
   "cell_type": "markdown",
   "id": "ab1bfa15-ca51-4372-8846-7ac8660d58de",
   "metadata": {
    "tags": []
   },
   "source": [
    "### env.get_obs()"
   ]
  },
  {
   "cell_type": "code",
   "execution_count": null,
   "id": "cbe9615b-2d86-4af4-920e-6f6979e915e6",
   "metadata": {},
   "outputs": [],
   "source": [
    "print('get current observation {}'.format(env.get_obs()))"
   ]
  },
  {
   "cell_type": "markdown",
   "id": "b318d0fd-fe20-42b4-b649-fd547c6908cf",
   "metadata": {},
   "source": [
    "### env.reset()"
   ]
  },
  {
   "cell_type": "code",
   "execution_count": null,
   "id": "0345e4ee-2d08-449c-9ec2-bfcf700fb681",
   "metadata": {
    "scrolled": false
   },
   "outputs": [],
   "source": [
    "initial_obs, initial_action = env.reset()\n",
    "print('initial observation is {}, and the shape is {}'.format(initial_obs, initial_obs.shape))\n",
    "print('initial action is {}, and the shape is {}'.format(initial_action, initial_action.shape))"
   ]
  },
  {
   "cell_type": "code",
   "execution_count": null,
   "id": "d6077259-c21f-4ebb-9928-781238e3e20b",
   "metadata": {},
   "outputs": [],
   "source": []
  },
  {
   "cell_type": "code",
   "execution_count": null,
   "id": "e2fec951-2bb5-406a-92c7-7bb1d6ded758",
   "metadata": {},
   "outputs": [],
   "source": []
  },
  {
   "cell_type": "code",
   "execution_count": null,
   "id": "5416be17-6e31-4d66-bdc3-937b95682527",
   "metadata": {},
   "outputs": [],
   "source": []
  }
 ],
 "metadata": {
  "kernelspec": {
   "display_name": "Python 3 (ipykernel)",
   "language": "python",
   "name": "python3"
  },
  "language_info": {
   "codemirror_mode": {
    "name": "ipython",
    "version": 3
   },
   "file_extension": ".py",
   "mimetype": "text/x-python",
   "name": "python",
   "nbconvert_exporter": "python",
   "pygments_lexer": "ipython3",
   "version": "3.9.16"
  }
 },
 "nbformat": 4,
 "nbformat_minor": 5
}