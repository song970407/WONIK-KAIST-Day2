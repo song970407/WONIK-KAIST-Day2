{
 "cells": [
  {
   "cell_type": "code",
   "execution_count": null,
   "id": "af92822b-5a55-45ba-967b-609143424785",
   "metadata": {},
   "outputs": [],
   "source": [
    "from os.path import join\n",
    "import os\n",
    "import pickle\n",
    "\n",
    "import numpy as np\n",
    "import torch\n",
    "import matplotlib.pyplot as plt\n",
    "\n",
    "from src.env.MiniFurnace import MiniFurnace\n",
    "\n",
    "from torch.utils.data import DataLoader, TensorDataset\n",
    "\n",
    "device = 'cuda' if torch.cuda.is_available() else 'cpu'"
   ]
  },
  {
   "cell_type": "code",
   "execution_count": null,
   "id": "74868b8c-9972-4ae2-9425-c6f3f9a36a55",
   "metadata": {},
   "outputs": [],
   "source": [
    "env = MiniFurnace()\n",
    "num_TRAIN_trajectory = 10\n",
    "num_VALIDATION_trajectory = 5\n",
    "num_TEST_trajectory = 5"
   ]
  },
  {
   "cell_type": "markdown",
   "id": "14811576-3cbe-46d2-bb78-d14c49eccbd4",
   "metadata": {
    "tags": []
   },
   "source": [
    "### Data generation function from environment"
   ]
  },
  {
   "cell_type": "code",
   "execution_count": null,
   "id": "af07dc43-b451-42a8-9e7e-9c168d43dd0a",
   "metadata": {},
   "outputs": [],
   "source": [
    "def generate_random_trajectory(env, random_seed=1, T=100):\n",
    "    np.random.seed(random_seed)\n",
    "    o, a = env.reset()\n",
    "    list_o = []\n",
    "    list_a = []\n",
    "    list_o.append(o)\n",
    "    list_a.append(a)\n",
    "    for i in range(T):\n",
    "        a = np.random.uniform(low=env.action_space['low'], high=env.action_space['high'], size=(1, env.action_dim))\n",
    "        # a = env.action_space.sample()\n",
    "        o = env.step(a)        \n",
    "        list_o.append(o)\n",
    "        list_a.append(a)\n",
    "        \n",
    "    list_o = np.concatenate(list_o)\n",
    "    list_a = np.concatenate(list_a)\n",
    "    return list_o, list_a"
   ]
  },
  {
   "cell_type": "markdown",
   "id": "14c56ef0-09f1-4feb-aae4-fcc3999fae53",
   "metadata": {
    "tags": []
   },
   "source": [
    "### Generate train data from environment"
   ]
  },
  {
   "cell_type": "code",
   "execution_count": null,
   "id": "5691d995-cc11-455e-89b8-5e34a17d7bb4",
   "metadata": {},
   "outputs": [],
   "source": [
    "train_obs, train_action = [], []\n",
    "for i in range(num_TRAIN_trajectory):\n",
    "    list_o, list_a = generate_random_trajectory(env=env, random_seed=i)\n",
    "    # print(list_o.min(), list_o.max())\n",
    "    train_obs.append(list_o)\n",
    "    train_action.append(list_a)\n",
    "    \n",
    "train_data = {\n",
    "    'traj_obs': train_obs,\n",
    "    'traj_action': train_action   }\n",
    "\n",
    "with open('data/train_data.pkl', 'wb') as f:\n",
    "    pickle.dump(train_data, f)"
   ]
  },
  {
   "cell_type": "code",
   "execution_count": null,
   "id": "e15d568f-b832-45e5-8cd2-39e09094ee7b",
   "metadata": {},
   "outputs": [],
   "source": [
    "list_a.shape"
   ]
  },
  {
   "cell_type": "code",
   "execution_count": null,
   "id": "684f9194-e3c4-4d9c-a3b1-e7375dc0a5f4",
   "metadata": {},
   "outputs": [],
   "source": [
    "list_o.shape"
   ]
  },
  {
   "cell_type": "markdown",
   "id": "840e5e10-6fff-44ff-b265-ad230b974d75",
   "metadata": {
    "tags": []
   },
   "source": [
    "### Generate validation data from environment"
   ]
  },
  {
   "cell_type": "code",
   "execution_count": null,
   "id": "efe4efb1",
   "metadata": {},
   "outputs": [],
   "source": [
    "val_obs, val_action = [], []\n",
    "for i in range(num_VALIDATION_trajectory):\n",
    "    list_o, list_a = generate_random_trajectory(env=env, random_seed=i+100)\n",
    "    # print(list_o.min(), list_o.max())\n",
    "    val_obs.append(list_o)\n",
    "    val_action.append(list_a)\n",
    "    \n",
    "val_data = {\n",
    "    'traj_obs': val_obs,\n",
    "    'traj_action': val_action   }\n",
    "\n",
    "with open('data/val_data.pkl', 'wb') as f:\n",
    "    pickle.dump(val_data, f)"
   ]
  },
  {
   "cell_type": "markdown",
   "id": "83aee66f-e78b-4365-bfb6-8f238ec667ff",
   "metadata": {
    "tags": []
   },
   "source": [
    "### Generate TEST data from environment"
   ]
  },
  {
   "cell_type": "code",
   "execution_count": null,
   "id": "eb76fa86",
   "metadata": {},
   "outputs": [],
   "source": [
    "test_obs, test_action = [], []\n",
    "for i in range(num_TEST_trajectory):\n",
    "    list_o, list_a = generate_random_trajectory(env=env, random_seed=i+10000)\n",
    "    # print(list_o.min(), list_o.max())\n",
    "    test_obs.append(list_o)\n",
    "    test_action.append(list_a)\n",
    "    \n",
    "test_data = {\n",
    "    'traj_obs': test_obs,\n",
    "    'traj_action': test_action   }\n",
    "\n",
    "with open('data/test_data.pkl', 'wb') as f:\n",
    "    pickle.dump(test_data, f)"
   ]
  },
  {
   "cell_type": "markdown",
   "id": "09ae1fcc-90f1-4ff7-b536-0af34f98e2fd",
   "metadata": {},
   "source": [
    "### Generate objective trajectory data"
   ]
  },
  {
   "cell_type": "code",
   "execution_count": null,
   "id": "a481aa23-dee5-4d30-9c78-4480944550ce",
   "metadata": {},
   "outputs": [],
   "source": [
    "max_value, min_value = 0.1, -0.1\n",
    "period = 20"
   ]
  },
  {
   "cell_type": "code",
   "execution_count": null,
   "id": "083edb2a-80e6-4886-9b40-673eafe74929",
   "metadata": {},
   "outputs": [],
   "source": [
    "traj1 = np.zeros((env.state_dim, period))\n",
    "traj2 = np.repeat(np.linspace(0, max_value, period).reshape(1, -1), repeats=env.state_dim, axis=0)\n",
    "traj3 = np.ones((env.state_dim, period)) * max_value\n",
    "traj4 = np.repeat(np.linspace(max_value, min_value, period).reshape(1, -1), repeats=env.state_dim, axis=0)\n",
    "traj5 = np.ones((env.state_dim, period)) * min_value\n",
    "traj6 = np.repeat(np.linspace(min_value, 0, period).reshape(1, -1), repeats=env.state_dim, axis=0)\n",
    "traj7 = np.zeros((env.state_dim, period))\n",
    "reference_trajectory = np.concatenate([traj1, traj2, traj3, traj4, traj5, traj6, traj7], axis=1)"
   ]
  },
  {
   "cell_type": "code",
   "execution_count": null,
   "id": "55883893-dbb1-4830-a5f0-f01ce3f7d877",
   "metadata": {},
   "outputs": [],
   "source": [
    "np.save('data/reference_trajectory.npy', reference_trajectory)"
   ]
  },
  {
   "cell_type": "code",
   "execution_count": null,
   "id": "57d89ed0-2587-43bb-b8c9-e5c95f3a9b7f",
   "metadata": {},
   "outputs": [],
   "source": [
    "plt.plot(reference_trajectory[0])"
   ]
  },
  {
   "cell_type": "code",
   "execution_count": null,
   "id": "65d612a1-bee1-43e9-8ef6-506117613ab6",
   "metadata": {},
   "outputs": [],
   "source": []
  }
 ],
 "metadata": {
  "kernelspec": {
   "display_name": "Python 3 (ipykernel)",
   "language": "python",
   "name": "python3"
  },
  "language_info": {
   "codemirror_mode": {
    "name": "ipython",
    "version": 3
   },
   "file_extension": ".py",
   "mimetype": "text/x-python",
   "name": "python",
   "nbconvert_exporter": "python",
   "pygments_lexer": "ipython3",
   "version": "3.9.16"
  }
 },
 "nbformat": 4,
 "nbformat_minor": 5
}